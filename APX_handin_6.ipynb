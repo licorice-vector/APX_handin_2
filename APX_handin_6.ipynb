{
  "nbformat": 4,
  "nbformat_minor": 0,
  "metadata": {
    "colab": {
      "provenance": []
    },
    "kernelspec": {
      "name": "python3",
      "display_name": "Python 3"
    },
    "language_info": {
      "name": "python"
    }
  },
  "cells": [
    {
      "cell_type": "markdown",
      "metadata": {
        "id": "IMuSlKg2FrhS"
      },
      "source": [
        "# Approximation Algorithms hand-in 6"
      ]
    },
    {
      "cell_type": "markdown",
      "metadata": {
        "id": "yIlfse0aFxF-"
      },
      "source": [
        "Install the hyperloglog library and read data files"
      ]
    },
    {
      "cell_type": "code",
      "metadata": {
        "id": "lKB_dxn_S8LQ",
        "outputId": "4b988221-e88d-4204-f52a-7491a5aad3b9",
        "colab": {
          "base_uri": "https://localhost:8080/"
        }
      },
      "source": [
        "!pip -q install hyperloglog\n",
        "!wget -q https://raw.githubusercontent.com/rasmus-pagh/apx/main/data/words_danish.txt -O words_danish.txt\n",
        "!wget -q https://raw.githubusercontent.com/rasmus-pagh/apx/main/data/words_english.txt -O words_english.txt\n",
        "\n",
        "import hyperloglog\n",
        "import copy"
      ],
      "execution_count": 1,
      "outputs": [
        {
          "output_type": "stream",
          "name": "stdout",
          "text": [
            "  Preparing metadata (setup.py) ... \u001b[?25l\u001b[?25hdone\n",
            "  Building wheel for hyperloglog (setup.py) ... \u001b[?25l\u001b[?25hdone\n"
          ]
        }
      ]
    },
    {
      "cell_type": "markdown",
      "metadata": {
        "id": "BgXunJliF5SI"
      },
      "source": [
        "The code below reads two lists of words from files and prints statistics using a hyperloglog sketch"
      ]
    },
    {
      "cell_type": "code",
      "metadata": {
        "colab": {
          "base_uri": "https://localhost:8080/"
        },
        "id": "6ONEGRAPAFNx",
        "outputId": "55f43ccd-ea91-42a0-df01-5942d8672b68"
      },
      "source": [
        "def create_hll(filename, relative_error):\n",
        "  hll = hyperloglog.HyperLogLog(relative_error)\n",
        "  with open(filename, 'r') as f:\n",
        "    for word in f:\n",
        "      # substrings given all words contain a newline char\n",
        "      substrs = [word[i:j] for i in range(len(word)) for j in range(i+1, len(word))]\n",
        "      for substr in substrs:\n",
        "        hll.add(substr)\n",
        "  return hll\n",
        "\n",
        "relative_error = 0.01\n",
        "hll_danish = create_hll('words_danish.txt', relative_error)\n",
        "hll_english = create_hll('words_english.txt', relative_error)\n",
        "\n",
        "print(f'HLL reports about {len(hll_danish)} substrings of Danish words and {len(hll_english)} substrings of English words')\n",
        "\n",
        "hll_combined = copy.deepcopy(hll_english) # Create a copy of the HLL\n",
        "hll_combined.update(hll_danish) # Merge the other HLL into the combined one\n",
        "print(f'Combined the two languages have about {len(hll_combined)} substrings of words')"
      ],
      "execution_count": 7,
      "outputs": [
        {
          "output_type": "stream",
          "name": "stdout",
          "text": [
            "HLL reports about 314620 substrings of Danish words and 2877068 substrings of English words\n",
            "Combined the two languages have about 3142049 substrings of words\n"
          ]
        }
      ]
    },
    {
      "cell_type": "markdown",
      "metadata": {
        "id": "ul5g6jCfKIUt"
      },
      "source": [
        "Your task is to add code, or modify the code, to compute information about the number of distinct substrings in the two languages. For example, the word \"pop\" has 6 distinct substrings, namely \"\" (the empty string), \"p\", \"o\", \"po\", \"op\" and \"pop\". Note that \"pp\" is not a substring since the letters are not consecutive."
      ]
    },
    {
      "cell_type": "markdown",
      "metadata": {
        "id": "o9SCKevnKywl"
      },
      "source": [
        "\n",
        "\n",
        "1.   Use a hyperloglog data structure with relative error 0.01 to compute upper and lower bounds on the number of distinct substrings in Danish and English, respectively. You may assume that HLL is guaranteed to return a number with the stated relative error.\n",
        "2.   Based on the answer from 1), and a cardinality estimate for the union, give upper and lower bounds on the number of common substrings in the two languages.\n",
        "3.    Suppose that the intersection size is at least 1% of each of the two sets. How small relative error on the cardinality estimates would you need to estimate the number of common substrings up to a relative error of 10%? (NB! The implementation provided does not support very small relative errors.)\n",
        "\n"
      ]
    }
  ]
}